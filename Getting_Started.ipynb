{
 "cells": [
  {
   "cell_type": "markdown",
   "source": [
    "# Input Statement"
   ],
   "metadata": {}
  },
  {
   "cell_type": "code",
   "execution_count": null,
   "source": [
    "arr = [int(i) for i in input().split()]\r\n",
    "arr1 = [int(i) for i in input().split()]\r\n",
    "print(*range(10, -1, -1))"
   ],
   "outputs": [],
   "metadata": {}
  },
  {
   "cell_type": "markdown",
   "source": [
    "# Insertion Sort\r\n",
    "Ascending order"
   ],
   "metadata": {}
  },
  {
   "cell_type": "code",
   "execution_count": null,
   "source": [
    "def insert_sort(arr):\r\n",
    "    for j in range(1, len(arr)):\r\n",
    "        key = arr[j]\r\n",
    "        i = j-1\r\n",
    "        while i>=0 and arr[i] > key:\r\n",
    "            arr[i+1] = arr[i]\r\n",
    "            i = i-1\r\n",
    "        arr[i+1] = key\r\n",
    "    return arr\r\n",
    "\r\n",
    "print(insert_sort(arr))"
   ],
   "outputs": [],
   "metadata": {}
  },
  {
   "cell_type": "markdown",
   "source": [
    "Descending order"
   ],
   "metadata": {}
  },
  {
   "cell_type": "code",
   "execution_count": null,
   "source": [
    "def insert_sort_d(arr):\r\n",
    "    for j in range(1, len(arr)):\r\n",
    "        key = arr[j]\r\n",
    "        i = j-1\r\n",
    "        while i>=0 and arr[i] < key:\r\n",
    "            arr[i+1] = arr[i]\r\n",
    "            i = i-1\r\n",
    "        arr[i+1] = key\r\n",
    "    return arr\r\n",
    "\r\n",
    "print(insert_sort_d(arr))"
   ],
   "outputs": [],
   "metadata": {}
  },
  {
   "cell_type": "markdown",
   "source": [
    "# Exercise 2.1-4\r\n",
    "Consider the problem of adding two n-bit binary integers, stored in two n-element\r\n",
    "arrays A and B. The sum of the two integers should be stored in binary form i an .n C 1/-element array C. State the problem formally and write pseudocode for\r\n",
    "adding the two integers."
   ],
   "metadata": {}
  },
  {
   "cell_type": "code",
   "execution_count": 54,
   "source": [
    "def bin_add(a, b):\r\n",
    "    c, x = 0, 0\r\n",
    "    r = [0 for i in range(len(a)+1)]\r\n",
    "    for i in range(len(a) -1, -1, -1):\r\n",
    "        x = a[i] + b[i] + c\r\n",
    "        r[i+1], c = x % 2, x // 2\r\n",
    "    r[0] = x//2\r\n",
    "    return r\r\n",
    "\r\n",
    "a = [int(i) for i in input().split()]\r\n",
    "b = [int(i) for i in input().split()]\r\n",
    "print(a, '+' , b, '=',bin_add(a, b))"
   ],
   "outputs": [
    {
     "output_type": "stream",
     "name": "stdout",
     "text": [
      "[1, 0] + [1, 1] = [1, 0, 1]\n"
     ]
    }
   ],
   "metadata": {}
  },
  {
   "cell_type": "markdown",
   "source": [
    "# Merge Sort\r\n",
    "### The Merge Subroutine"
   ],
   "metadata": {}
  },
  {
   "cell_type": "code",
   "execution_count": 77,
   "source": [
    "def merge(A, p, q, r):\r\n",
    "    n1 = q - p + 1\r\n",
    "    n2 = r - q\r\n",
    "    L = [i for i in A[p : q+1]]\r\n",
    "    R = [i for i in A[q+1 : r+1]]\r\n",
    "    L.append(9999999)     #A sentinel value for me\r\n",
    "    R.append(9999999)\r\n",
    "\r\n",
    "    i = 0\r\n",
    "    j = 0    \r\n",
    "    for k in range(p,r+1):\r\n",
    "        if L[i] <= R[j]:\r\n",
    "            A[k] = L[i]\r\n",
    "            i = i + 1\r\n",
    "        else:\r\n",
    "            A[k] = R[j]\r\n",
    "            j = j+1\r\n",
    "    return A \r\n",
    "\r\n",
    "print(merge([1, 5, 8, 2, 3, 6, 7, 9, 10], 0,2, 8))"
   ],
   "outputs": [
    {
     "output_type": "stream",
     "name": "stdout",
     "text": [
      "[1, 2, 3, 5, 6, 7, 8, 9, 10]\n"
     ]
    }
   ],
   "metadata": {}
  },
  {
   "cell_type": "markdown",
   "source": [
    "## The Merge sort algorithm"
   ],
   "metadata": {}
  },
  {
   "cell_type": "code",
   "execution_count": 73,
   "source": [
    "def merge_sort(A, p, r):\r\n",
    "    if(p < r):\r\n",
    "        q = (p + r)//2\r\n",
    "        merge_sort(A, p, q)\r\n",
    "        merge_sort(A, q+1, r)\r\n",
    "        merge(A, p, q, r)"
   ],
   "outputs": [],
   "metadata": {}
  },
  {
   "cell_type": "markdown",
   "source": [
    "Remember to pass the indices and not len(A)"
   ],
   "metadata": {}
  },
  {
   "cell_type": "code",
   "execution_count": 79,
   "source": [
    "A = [int(i) for i in input().split()]\r\n",
    "merge_sort(A, 0, len(A)-1)\r\n",
    "print(A)"
   ],
   "outputs": [
    {
     "output_type": "stream",
     "name": "stdout",
     "text": [
      "[1, 2, 2, 3, 4, 5, 6, 7]\n"
     ]
    }
   ],
   "metadata": {}
  },
  {
   "cell_type": "code",
   "execution_count": null,
   "source": [],
   "outputs": [],
   "metadata": {}
  }
 ],
 "metadata": {
  "orig_nbformat": 4,
  "language_info": {
   "name": "python",
   "version": "3.9.7",
   "mimetype": "text/x-python",
   "codemirror_mode": {
    "name": "ipython",
    "version": 3
   },
   "pygments_lexer": "ipython3",
   "nbconvert_exporter": "python",
   "file_extension": ".py"
  },
  "kernelspec": {
   "name": "python3",
   "display_name": "Python 3.9.7 64-bit"
  },
  "interpreter": {
   "hash": "223c27acd2f0d30991757af3704a37d958d615953cddcb1d78c6a06176f530c7"
  }
 },
 "nbformat": 4,
 "nbformat_minor": 2
}