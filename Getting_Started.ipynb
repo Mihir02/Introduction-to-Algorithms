{
 "cells": [
  {
   "cell_type": "code",
   "execution_count": 59,
   "source": [
    "import numpy as np"
   ],
   "outputs": [],
   "metadata": {}
  },
  {
   "cell_type": "markdown",
   "source": [
    "# Input Statement"
   ],
   "metadata": {}
  },
  {
   "cell_type": "code",
   "execution_count": 60,
   "source": [
    "#arr = [int(i) for i in input().split()]\r\n",
    "#arr1 = [int(i) for i in input().split()]\r\n",
    "def ini(n):    \r\n",
    "    rng = np.random.default_rng(48)\r\n",
    "    arr = list(rng.integers(low=0, high=9999, size=n))\r\n",
    "    return arr\r\n",
    "type(ini(6))"
   ],
   "outputs": [
    {
     "output_type": "execute_result",
     "data": {
      "text/plain": [
       "list"
      ]
     },
     "metadata": {},
     "execution_count": 60
    }
   ],
   "metadata": {}
  },
  {
   "cell_type": "markdown",
   "source": [
    "# Insertion Sort\r\n",
    "Ascending order\r\n",
    "\r\n",
    "This arr was sorted in $5.8$ seconds by insertion sort"
   ],
   "metadata": {}
  },
  {
   "cell_type": "code",
   "execution_count": 61,
   "source": [
    "def insert_sort(arr, s, e):\r\n",
    "    for j in range(s, e+1):\r\n",
    "        key = arr[j]\r\n",
    "        i = j-1\r\n",
    "        while i>=s and arr[i] > key:\r\n",
    "            arr[i+1] = arr[i]\r\n",
    "            i = i-1\r\n",
    "        arr[i+1] = key\r\n",
    "    return arr\r\n",
    "\r\n",
    "a = ini(6)\r\n",
    "print(a)\r\n",
    "print(insert_sort(a, 0, 5))"
   ],
   "outputs": [
    {
     "output_type": "stream",
     "name": "stdout",
     "text": [
      "[1299, 3876, 4997, 5957, 6738, 5137]\n",
      "[1299, 3876, 4997, 5137, 5957, 6738]\n"
     ]
    }
   ],
   "metadata": {}
  },
  {
   "cell_type": "markdown",
   "source": [
    "Descending order"
   ],
   "metadata": {}
  },
  {
   "cell_type": "code",
   "execution_count": 62,
   "source": [
    "def insert_sort_d(arr):\r\n",
    "    for j in range(1, len(arr)):\r\n",
    "        key = arr[j]\r\n",
    "        i = j-1\r\n",
    "        while i>=0 and arr[i] < key:\r\n",
    "            arr[i+1] = arr[i]\r\n",
    "            i = i-1\r\n",
    "        arr[i+1] = key\r\n",
    "    return arr\r\n",
    "\r\n",
    "print(insert_sort_d(arr))"
   ],
   "outputs": [
    {
     "output_type": "error",
     "ename": "NameError",
     "evalue": "name 'arr' is not defined",
     "traceback": [
      "\u001b[1;31m---------------------------------------------------------------------------\u001b[0m",
      "\u001b[1;31mNameError\u001b[0m                                 Traceback (most recent call last)",
      "\u001b[1;32m<ipython-input-62-672afc385b46>\u001b[0m in \u001b[0;36m<module>\u001b[1;34m\u001b[0m\n\u001b[0;32m      9\u001b[0m     \u001b[1;32mreturn\u001b[0m \u001b[0marr\u001b[0m\u001b[1;33m\u001b[0m\u001b[1;33m\u001b[0m\u001b[0m\n\u001b[0;32m     10\u001b[0m \u001b[1;33m\u001b[0m\u001b[0m\n\u001b[1;32m---> 11\u001b[1;33m \u001b[0mprint\u001b[0m\u001b[1;33m(\u001b[0m\u001b[0minsert_sort_d\u001b[0m\u001b[1;33m(\u001b[0m\u001b[0marr\u001b[0m\u001b[1;33m)\u001b[0m\u001b[1;33m)\u001b[0m\u001b[1;33m\u001b[0m\u001b[1;33m\u001b[0m\u001b[0m\n\u001b[0m",
      "\u001b[1;31mNameError\u001b[0m: name 'arr' is not defined"
     ]
    }
   ],
   "metadata": {}
  },
  {
   "cell_type": "markdown",
   "source": [
    "# Exercise 2.1-4\r\n",
    "Consider the problem of adding two n-bit binary integers, stored in two n-element\r\n",
    "arrays A and B. The sum of the two integers should be stored in binary form i an .n C 1/-element array C. State the problem formally and write pseudocode for\r\n",
    "adding the two integers."
   ],
   "metadata": {}
  },
  {
   "cell_type": "code",
   "execution_count": 63,
   "source": [
    "def bin_add(a, b):\r\n",
    "    c, x = 0, 0\r\n",
    "    r = [0 for i in range(len(a)+1)]\r\n",
    "    for i in range(len(a) -1, -1, -1):\r\n",
    "        x = a[i] + b[i] + c\r\n",
    "        r[i+1], c = x % 2, x // 2\r\n",
    "    r[0] = x//2\r\n",
    "    return r\r\n",
    "\r\n",
    "a = [int(i) for i in input().split()]\r\n",
    "b = [int(i) for i in input().split()]\r\n",
    "print(a, '+' , b, '=',bin_add(a, b))"
   ],
   "outputs": [
    {
     "output_type": "stream",
     "name": "stdout",
     "text": [
      "[] + [] = [0]\n"
     ]
    }
   ],
   "metadata": {}
  },
  {
   "cell_type": "markdown",
   "source": [
    "# Merge Sort\r\n",
    "### The Merge Subroutine"
   ],
   "metadata": {}
  },
  {
   "cell_type": "code",
   "execution_count": 64,
   "source": [
    "def merge(A, p, q, r):\r\n",
    "    n1 = q - p + 1\r\n",
    "    n2 = r - q\r\n",
    "    L = [i for i in A[p : q+1]]\r\n",
    "    R = [i for i in A[q+1 : r+1]]\r\n",
    "    L.append(9999999)     #A sentinel value for me\r\n",
    "    R.append(9999999)\r\n",
    "\r\n",
    "    i = 0\r\n",
    "    j = 0    \r\n",
    "    for k in range(p,r+1):\r\n",
    "        if L[i] <= R[j]:\r\n",
    "            A[k] = L[i]\r\n",
    "            i = i + 1\r\n",
    "        else:\r\n",
    "            A[k] = R[j]\r\n",
    "            j = j+1\r\n",
    "    return A \r\n"
   ],
   "outputs": [],
   "metadata": {}
  },
  {
   "cell_type": "markdown",
   "source": [
    "## The Merge sort algorithm"
   ],
   "metadata": {}
  },
  {
   "cell_type": "code",
   "execution_count": 65,
   "source": [
    "def merge_sort(A, p, r):\r\n",
    "    if(p < r):\r\n",
    "        q = (p + r)//2\r\n",
    "        merge_sort(A, p, q)\r\n",
    "        merge_sort(A, q+1, r)\r\n",
    "        merge(A, p, q, r)"
   ],
   "outputs": [],
   "metadata": {}
  },
  {
   "cell_type": "markdown",
   "source": [
    "Remember to pass the indices and not len(A)"
   ],
   "metadata": {}
  },
  {
   "cell_type": "markdown",
   "source": [
    "That `arr` that was sorted by insertion sort in $5.8$ seconds was sorted by merge sort in $0.1$ second, And it wasn't even that big of a list of integers."
   ],
   "metadata": {}
  },
  {
   "cell_type": "markdown",
   "source": [
    "# Exercises"
   ],
   "metadata": {}
  },
  {
   "cell_type": "markdown",
   "source": [
    "## 2.3 - 2\r\n",
    "Rewrite the MERGE procedure so that it does not use sentinels, instead stopping\r\n",
    "once either array L or R has had all its elements copied back to A and then copying\r\n",
    "the remainder of the other array back into A.\r\n"
   ],
   "metadata": {}
  },
  {
   "cell_type": "code",
   "execution_count": 66,
   "source": [
    "def merge_2(A, p, q, r):\r\n",
    "    n1 = q - p + 1\r\n",
    "    n2 = r - q\r\n",
    "    L = [i for i in A[p : q+1]]\r\n",
    "    R = [i for i in A[q+1 : r+1]]\r\n",
    "\r\n",
    "    i = 0\r\n",
    "    j = 0    \r\n",
    "    for k in range(p,r+1):\r\n",
    "        if i > (n1-1):\r\n",
    "            A[k] = R[j]\r\n",
    "            j = j+1\r\n",
    "        elif j > (n2-1):\r\n",
    "            A[k] = L[i]\r\n",
    "            i = i + 1\r\n",
    "        elif L[i] <= R[j]:\r\n",
    "            A[k] = L[i]\r\n",
    "            i = i + 1\r\n",
    "        else:\r\n",
    "            A[k] = R[j]\r\n",
    "            j = j+1   \r\n",
    "    return A \r\n"
   ],
   "outputs": [],
   "metadata": {}
  },
  {
   "cell_type": "code",
   "execution_count": 67,
   "source": [
    "a = [0, 1, 2, 3, 4, 5, 6, 7, 8, 9]\r\n",
    "a[3:7] = [0, 0, 0, 0]\r\n",
    "a"
   ],
   "outputs": [
    {
     "output_type": "execute_result",
     "data": {
      "text/plain": [
       "[0, 1, 2, 0, 0, 0, 0, 7, 8, 9]"
      ]
     },
     "metadata": {},
     "execution_count": 67
    }
   ],
   "metadata": {}
  },
  {
   "cell_type": "markdown",
   "source": [
    "## 2.3 - 5\r\n",
    "Referring back to the searching problem (see Exercise 2.1-3), observe that if the\r\n",
    "sequence A is sorted, we can check the midpoint of the sequence against \u0017 and\r\n",
    "eliminate half of the sequence from further consideration. The binary search al\u0002gorithm repeats this procedure, halving the size of the remaining portion of the\r\n",
    "sequence each time. Write pseudocode, either iterative or recursive, for binary\r\n",
    "search. Argue that the worst-case running time of binary search is ‚ $O(\\log{n})$."
   ],
   "metadata": {}
  },
  {
   "cell_type": "code",
   "execution_count": 68,
   "source": [
    "def bin_ser(A, x, s, e):\r\n",
    "    n = e - s + 1\r\n",
    "    m = (e+s)//2\r\n",
    "    if A[m] == x:\r\n",
    "        return m\r\n",
    "    elif n == 1 and not(A[m] == x):\r\n",
    "        return -1\r\n",
    "    elif e > A[m]:\r\n",
    "        return bin_ser(A, x, m+1, e)\r\n",
    "    else:\r\n",
    "        return bin_ser(A, x, s, m)"
   ],
   "outputs": [],
   "metadata": {}
  },
  {
   "cell_type": "code",
   "execution_count": 69,
   "source": [
    "a = [0,1,2,3,4,5,6,7,8,99,15]\r\n",
    "merge_sort(a, 0, len(a)-1)\r\n",
    "print(a)\r\n",
    "print(bin_ser(a, 15, 0, len(a)-1))"
   ],
   "outputs": [
    {
     "output_type": "stream",
     "name": "stdout",
     "text": [
      "[0, 1, 2, 3, 4, 5, 6, 7, 8, 15, 99]\n",
      "9\n"
     ]
    }
   ],
   "metadata": {}
  },
  {
   "cell_type": "markdown",
   "source": [
    "Well that works!\r\n",
    "## 2.3 - 6\r\n",
    "Observe that the while loop of lines 5–7 of the INSERTION-SORT procedure in\r\n",
    "Section 2.1 uses a linear search to scan (backward) through the sorted subarray\r\n",
    "A[1 ... j-1]. Can we use a binary search (see Exercise 2.3-5) instead to improve\r\n",
    "the overall worst-case running time of insertion sort to $O(n \\log{n})$?\r\n"
   ],
   "metadata": {}
  },
  {
   "cell_type": "code",
   "execution_count": 70,
   "source": [
    "def bin_ser_2(A, x, s, e):\r\n",
    "    n = e - s + 1\r\n",
    "    m = (e+s)//2\r\n",
    "    if n == 1:\r\n",
    "        return s if A[0] > x else e+1\r\n",
    "    \r\n",
    "    elif n == 2:\r\n",
    "        if A[m] <= x and A[m+1] >= x:\r\n",
    "            return m+1\r\n",
    "        return s if A[0] > x else e+1\r\n",
    "\r\n",
    "    elif A[m] <= x and A[m+1] >= x:\r\n",
    "        return m+1\r\n",
    "    \r\n",
    "    elif A[m] < x and A[m+1] < x:\r\n",
    "        return bin_ser_2(A, x, m+1, e)\r\n",
    "    \r\n",
    "    else:\r\n",
    "        return bin_ser_2(A, x, s, m)"
   ],
   "outputs": [],
   "metadata": {}
  },
  {
   "cell_type": "code",
   "execution_count": 71,
   "source": [
    "A = [1299, 3876, 4997, 5957]\r\n",
    "bin_ser_2(A, 6000, 0, 3)"
   ],
   "outputs": [
    {
     "output_type": "execute_result",
     "data": {
      "text/plain": [
       "4"
      ]
     },
     "metadata": {},
     "execution_count": 71
    }
   ],
   "metadata": {}
  },
  {
   "cell_type": "code",
   "execution_count": 72,
   "source": [
    "def insert_sort_bin(arr):\r\n",
    "    for j in range(1, len(arr)):\r\n",
    "        #print(\"iteration =\", j)\r\n",
    "        #print(arr)\r\n",
    "        key = arr[j]\r\n",
    "        #print(\"key =\", key)\r\n",
    "        i = bin_ser_2(arr, key, 0, j-1)\r\n",
    "        #print(\"index =\", i)\r\n",
    "        arr[i+1 : j+1] = arr[i : j]\r\n",
    "        arr[i] = key\r\n",
    "        #print(\"seq after fitting = \", arr)\r\n",
    "    return arr"
   ],
   "outputs": [],
   "metadata": {}
  },
  {
   "cell_type": "code",
   "execution_count": 73,
   "source": [
    "A = ini(7)\r\n",
    "print(A)\r\n",
    "insert_sort_bin(A)\r\n",
    "print(A)"
   ],
   "outputs": [
    {
     "output_type": "stream",
     "name": "stdout",
     "text": [
      "[1299, 3876, 4997, 5957, 6738, 5137, 485]\n",
      "[485, 1299, 3876, 4997, 5137, 5957, 6738]\n"
     ]
    }
   ],
   "metadata": {}
  },
  {
   "cell_type": "markdown",
   "source": [
    "Well this isn't of the required time complexity\r\n",
    "## 2.3 - 7\r\n",
    "Describe a $O(n \\log{n})$ time algorithm that, given a set $S$ of $n$ integers and another\r\n",
    "integer $x$ , determines whether or not there exist two elements in $S$ whose sum is\r\n",
    "exactly $x$ .\r\n"
   ],
   "metadata": {}
  },
  {
   "cell_type": "code",
   "execution_count": 74,
   "source": [
    "def func_7(S, n, x):\r\n",
    "    merge_sort(S, 0, n-1)\r\n",
    "    print(S)\r\n",
    "    i = 0\r\n",
    "    j = 0\r\n",
    "    flag = False\r\n",
    "    while i < n:\r\n",
    "        print(\"iteration\", i+1)\r\n",
    "        j = x - S[i]\r\n",
    "        print(\"i =\", S[i], \"j =\",j)\r\n",
    "        index = bin_ser(S, j, 0, n-1)\r\n",
    "        print(\"index =\", index)\r\n",
    "        if not (index == -1):\r\n",
    "            flag = True\r\n",
    "            break\r\n",
    "        i = i+1\r\n",
    "    if flag:\r\n",
    "        return S[i], j\r\n",
    "    else:\r\n",
    "        return \"Sorry\""
   ],
   "outputs": [],
   "metadata": {}
  },
  {
   "cell_type": "markdown",
   "source": [
    "Since merge sort is of $O(n\\log{n})$ time complexity and binary search is in the loop is $O(n\\log{n})$, so the final time complexity is $O(n\\log{n})$."
   ],
   "metadata": {}
  },
  {
   "cell_type": "code",
   "execution_count": 75,
   "source": [
    "a = [0,1,2,3,4,5,6,7,8,99,15]\r\n",
    "func_7(a, 11, 16)"
   ],
   "outputs": [
    {
     "output_type": "stream",
     "name": "stdout",
     "text": [
      "[0, 1, 2, 3, 4, 5, 6, 7, 8, 15, 99]\n",
      "iteration 1\n",
      "i = 0 j = 16\n",
      "index = -1\n",
      "iteration 2\n",
      "i = 1 j = 15\n",
      "index = 9\n"
     ]
    },
    {
     "output_type": "execute_result",
     "data": {
      "text/plain": [
       "(1, 15)"
      ]
     },
     "metadata": {},
     "execution_count": 75
    }
   ],
   "metadata": {}
  },
  {
   "cell_type": "markdown",
   "source": [
    "# Chapter Problems\r\n",
    "## 2-1. Insertion sort on small arrays in merge sort\r\n"
   ],
   "metadata": {}
  },
  {
   "cell_type": "code",
   "execution_count": 76,
   "source": [
    "def merge_sort_enhanced(A, p, r):\r\n",
    "    n = r - p + 1\r\n",
    "    if(n < 40):\r\n",
    "        return insert_sort(A, p, r)\r\n",
    "    if(p < r):\r\n",
    "        q = (p + r)//2\r\n",
    "        merge_sort(A, p, q)\r\n",
    "        merge_sort(A, q+1, r)\r\n",
    "        merge(A, p, q, r)"
   ],
   "outputs": [],
   "metadata": {}
  },
  {
   "cell_type": "code",
   "execution_count": 80,
   "source": [
    "A = ini(99)"
   ],
   "outputs": [],
   "metadata": {}
  },
  {
   "cell_type": "code",
   "execution_count": 81,
   "source": [
    "merge_sort_enhanced(A, 0, len(A)-1)"
   ],
   "outputs": [],
   "metadata": {}
  },
  {
   "cell_type": "code",
   "execution_count": 86,
   "source": [
    "A = ini(99)"
   ],
   "outputs": [],
   "metadata": {}
  },
  {
   "cell_type": "code",
   "execution_count": 87,
   "source": [
    "\r\n",
    "merge_sort(A, 0, len(A) - 1)"
   ],
   "outputs": [],
   "metadata": {}
  },
  {
   "cell_type": "markdown",
   "source": [
    "## 2-4  d => Inversions\r\n",
    "Let $A[1 .. n]$ be an array of n distinct numbers. If i < j and $A[i] > A[j]$ , then the\r\n",
    "pair $(i, j)$  is called an inversion of A.\r\n",
    "\r\n",
    "Give an algorithm that determines the number of inversions in any permutation\r\n",
    "on n elements in $O(n \\log{n})$ worst-case time. (Hint: Modify merge sort.)"
   ],
   "metadata": {}
  },
  {
   "cell_type": "code",
   "execution_count": 188,
   "source": [
    "def invi_merge(A, p, q, r):\r\n",
    "    n1 = q - p + 1\r\n",
    "    n2 = r - q\r\n",
    "    L = [i for i in A[p : q+1]]\r\n",
    "    R = [i for i in A[q+1 : r+1]]\r\n",
    "    L.append(9999999)     #A sentinel value for me\r\n",
    "    R.append(9999999)\r\n",
    "    inv = 0\r\n",
    "    i = 0\r\n",
    "    j = 0    \r\n",
    "    for k in range(p,r+1):\r\n",
    "        if L[i] <= R[j]:\r\n",
    "            A[k] = L[i]\r\n",
    "            i = i + 1\r\n",
    "        else:\r\n",
    "            A[k] = R[j]\r\n",
    "            j = j+1\r\n",
    "            #print(\"i, p, q =\", i, p, q )\r\n",
    "            inv += n1 - i \r\n",
    "            #print(inv)\r\n",
    "    return inv "
   ],
   "outputs": [],
   "metadata": {}
  },
  {
   "cell_type": "code",
   "execution_count": 189,
   "source": [
    "def no_invi(A, p, r):\r\n",
    "    inv = 0\r\n",
    "    if p >= r:\r\n",
    "        return 0\r\n",
    "    q = (p + r)//2\r\n",
    "    i1 = no_invi(A, p, q)\r\n",
    "    i2 = no_invi(A, q+1, r)\r\n",
    "    x = invi_merge(A, p, q, r)\r\n",
    "    #print('x', x)\r\n",
    "    inv = x + i1 + i2\r\n",
    "    return inv"
   ],
   "outputs": [],
   "metadata": {}
  },
  {
   "cell_type": "code",
   "execution_count": 194,
   "source": [
    "A = [ 4,3, 2, 1]\r\n",
    "no_invi(A, 0, len(A)-1)"
   ],
   "outputs": [
    {
     "output_type": "execute_result",
     "data": {
      "text/plain": [
       "6"
      ]
     },
     "metadata": {},
     "execution_count": 194
    }
   ],
   "metadata": {}
  },
  {
   "cell_type": "code",
   "execution_count": 193,
   "source": [
    "print(A)"
   ],
   "outputs": [
    {
     "output_type": "stream",
     "name": "stdout",
     "text": [
      "[0, 1, 2, 3, 6, 8]\n"
     ]
    }
   ],
   "metadata": {}
  },
  {
   "cell_type": "code",
   "execution_count": null,
   "source": [],
   "outputs": [],
   "metadata": {}
  }
 ],
 "metadata": {
  "orig_nbformat": 4,
  "language_info": {
   "name": "python",
   "version": "3.8.8",
   "mimetype": "text/x-python",
   "codemirror_mode": {
    "name": "ipython",
    "version": 3
   },
   "pygments_lexer": "ipython3",
   "nbconvert_exporter": "python",
   "file_extension": ".py"
  },
  "kernelspec": {
   "name": "python3",
   "display_name": "Python 3.8.8 64-bit ('base': conda)"
  },
  "interpreter": {
   "hash": "9da5a1eb768521143534bf09b996f0d525d45d2d4b488be6c4304e80c1815fea"
  }
 },
 "nbformat": 4,
 "nbformat_minor": 2
}