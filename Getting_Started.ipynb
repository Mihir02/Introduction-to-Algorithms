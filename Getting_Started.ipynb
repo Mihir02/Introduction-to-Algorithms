{
 "cells": [
  {
   "cell_type": "code",
   "execution_count": 59,
   "metadata": {},
   "outputs": [],
   "source": [
    "import numpy as np"
   ]
  },
  {
   "cell_type": "markdown",
   "metadata": {},
   "source": [
    "# Input Statement"
   ]
  },
  {
   "cell_type": "code",
   "execution_count": 60,
   "metadata": {},
   "outputs": [
    {
     "data": {
      "text/plain": [
       "list"
      ]
     },
     "execution_count": 60,
     "metadata": {},
     "output_type": "execute_result"
    }
   ],
   "source": [
    "#arr = [int(i) for i in input().split()]\n",
    "#arr1 = [int(i) for i in input().split()]\n",
    "def ini(n):    \n",
    "    rng = np.random.default_rng(48)\n",
    "    arr = list(rng.integers(low=0, high=9999, size=n))\n",
    "    return arr\n",
    "type(ini(6))"
   ]
  },
  {
   "cell_type": "markdown",
   "metadata": {},
   "source": [
    "# Insertion Sort\n",
    "Ascending order\n",
    "\n",
    "This arr was sorted in $5.8$ seconds by insertion sort"
   ]
  },
  {
   "cell_type": "code",
   "execution_count": 61,
   "metadata": {},
   "outputs": [
    {
     "name": "stdout",
     "output_type": "stream",
     "text": [
      "[1299, 3876, 4997, 5957, 6738, 5137]\n",
      "[1299, 3876, 4997, 5137, 5957, 6738]\n"
     ]
    }
   ],
   "source": [
    "def insert_sort(arr, s, e):\n",
    "    for j in range(s, e+1):\n",
    "        key = arr[j]\n",
    "        i = j-1\n",
    "        while i>=s and arr[i] > key:\n",
    "            arr[i+1] = arr[i]\n",
    "            i = i-1\n",
    "        arr[i+1] = key\n",
    "    return arr\n",
    "\n",
    "a = ini(6)\n",
    "print(a)\n",
    "print(insert_sort(a, 0, 5))"
   ]
  },
  {
   "cell_type": "markdown",
   "metadata": {},
   "source": [
    "Descending order"
   ]
  },
  {
   "cell_type": "code",
   "execution_count": 62,
   "metadata": {},
   "outputs": [
    {
     "ename": "NameError",
     "evalue": "name 'arr' is not defined",
     "output_type": "error",
     "traceback": [
      "\u001b[1;31m---------------------------------------------------------------------------\u001b[0m",
      "\u001b[1;31mNameError\u001b[0m                                 Traceback (most recent call last)",
      "\u001b[1;32m<ipython-input-62-672afc385b46>\u001b[0m in \u001b[0;36m<module>\u001b[1;34m\u001b[0m\n\u001b[0;32m      9\u001b[0m     \u001b[1;32mreturn\u001b[0m \u001b[0marr\u001b[0m\u001b[1;33m\u001b[0m\u001b[1;33m\u001b[0m\u001b[0m\n\u001b[0;32m     10\u001b[0m \u001b[1;33m\u001b[0m\u001b[0m\n\u001b[1;32m---> 11\u001b[1;33m \u001b[0mprint\u001b[0m\u001b[1;33m(\u001b[0m\u001b[0minsert_sort_d\u001b[0m\u001b[1;33m(\u001b[0m\u001b[0marr\u001b[0m\u001b[1;33m)\u001b[0m\u001b[1;33m)\u001b[0m\u001b[1;33m\u001b[0m\u001b[1;33m\u001b[0m\u001b[0m\n\u001b[0m",
      "\u001b[1;31mNameError\u001b[0m: name 'arr' is not defined"
     ]
    }
   ],
   "source": [
    "def insert_sort_d(arr):\n",
    "    for j in range(1, len(arr)):\n",
    "        key = arr[j]\n",
    "        i = j-1\n",
    "        while i>=0 and arr[i] < key:\n",
    "            arr[i+1] = arr[i]\n",
    "            i = i-1\n",
    "        arr[i+1] = key\n",
    "    return arr\n",
    "\n",
    "print(insert_sort_d(arr))"
   ]
  },
  {
   "cell_type": "markdown",
   "metadata": {},
   "source": [
    "# Exercise 2.1-4\n",
    "Consider the problem of adding two n-bit binary integers, stored in two n-element\n",
    "arrays A and B. The sum of the two integers should be stored in binary form i an .n C 1/-element array C. State the problem formally and write pseudocode for\n",
    "adding the two integers."
   ]
  },
  {
   "cell_type": "code",
   "execution_count": 63,
   "metadata": {},
   "outputs": [
    {
     "name": "stdout",
     "output_type": "stream",
     "text": [
      "[] + [] = [0]\n"
     ]
    }
   ],
   "source": [
    "def bin_add(a, b):\n",
    "    c, x = 0, 0\n",
    "    r = [0 for i in range(len(a)+1)]\n",
    "    for i in range(len(a) -1, -1, -1):\n",
    "        x = a[i] + b[i] + c\n",
    "        r[i+1], c = x % 2, x // 2\n",
    "    r[0] = x//2\n",
    "    return r\n",
    "\n",
    "a = [int(i) for i in input().split()]\n",
    "b = [int(i) for i in input().split()]\n",
    "print(a, '+' , b, '=',bin_add(a, b))"
   ]
  },
  {
   "cell_type": "markdown",
   "metadata": {},
   "source": [
    "# Merge Sort\n",
    "### The Merge Subroutine"
   ]
  },
  {
   "cell_type": "code",
   "execution_count": 64,
   "metadata": {},
   "outputs": [],
   "source": [
    "def merge(A, p, q, r):\n",
    "    n1 = q - p + 1\n",
    "    n2 = r - q\n",
    "    L = [i for i in A[p : q+1]]\n",
    "    R = [i for i in A[q+1 : r+1]]\n",
    "    L.append(9999999)     #A sentinel value for me\n",
    "    R.append(9999999)\n",
    "\n",
    "    i = 0\n",
    "    j = 0    \n",
    "    for k in range(p,r+1):\n",
    "        if L[i] <= R[j]:\n",
    "            A[k] = L[i]\n",
    "            i = i + 1\n",
    "        else:\n",
    "            A[k] = R[j]\n",
    "            j = j+1\n",
    "    return A \n"
   ]
  },
  {
   "cell_type": "markdown",
   "metadata": {},
   "source": [
    "## The Merge sort algorithm"
   ]
  },
  {
   "cell_type": "code",
   "execution_count": 65,
   "metadata": {},
   "outputs": [],
   "source": [
    "def merge_sort(A, p, r):\n",
    "    if(p < r):\n",
    "        q = (p + r)//2\n",
    "        merge_sort(A, p, q)\n",
    "        merge_sort(A, q+1, r)\n",
    "        merge(A, p, q, r)"
   ]
  },
  {
   "cell_type": "markdown",
   "metadata": {},
   "source": [
    "Remember to pass the indices and not len(A)"
   ]
  },
  {
   "cell_type": "markdown",
   "metadata": {},
   "source": [
    "That `arr` that was sorted by insertion sort in $5.8$ seconds was sorted by merge sort in $0.1$ second, And it wasn't even that big of a list of integers."
   ]
  },
  {
   "cell_type": "markdown",
   "metadata": {},
   "source": [
    "# Exercises"
   ]
  },
  {
   "cell_type": "markdown",
   "metadata": {},
   "source": [
    "## 2.3 - 2\n",
    "Rewrite the MERGE procedure so that it does not use sentinels, instead stopping\n",
    "once either array L or R has had all its elements copied back to A and then copying\n",
    "the remainder of the other array back into A.\n"
   ]
  },
  {
   "cell_type": "code",
   "execution_count": 66,
   "metadata": {},
   "outputs": [],
   "source": [
    "def merge_2(A, p, q, r):\n",
    "    n1 = q - p + 1\n",
    "    n2 = r - q\n",
    "    L = [i for i in A[p : q+1]]\n",
    "    R = [i for i in A[q+1 : r+1]]\n",
    "\n",
    "    i = 0\n",
    "    j = 0    \n",
    "    for k in range(p,r+1):\n",
    "        if i > (n1-1):\n",
    "            A[k] = R[j]\n",
    "            j = j+1\n",
    "        elif j > (n2-1):\n",
    "            A[k] = L[i]\n",
    "            i = i + 1\n",
    "        elif L[i] <= R[j]:\n",
    "            A[k] = L[i]\n",
    "            i = i + 1\n",
    "        else:\n",
    "            A[k] = R[j]\n",
    "            j = j+1   \n",
    "    return A \n"
   ]
  },
  {
   "cell_type": "code",
   "execution_count": 67,
   "metadata": {},
   "outputs": [
    {
     "data": {
      "text/plain": [
       "[0, 1, 2, 0, 0, 0, 0, 7, 8, 9]"
      ]
     },
     "execution_count": 67,
     "metadata": {},
     "output_type": "execute_result"
    }
   ],
   "source": [
    "a = [0, 1, 2, 3, 4, 5, 6, 7, 8, 9]\n",
    "a[3:7] = [0, 0, 0, 0]\n",
    "a"
   ]
  },
  {
   "cell_type": "markdown",
   "metadata": {},
   "source": [
    "## 2.3 - 5\n",
    "Referring back to the searching problem (see Exercise 2.1-3), observe that if the\n",
    "sequence A is sorted, we can check the midpoint of the sequence against \u0017 and\n",
    "eliminate half of the sequence from further consideration. The binary search al\u0002gorithm repeats this procedure, halving the size of the remaining portion of the\n",
    "sequence each time. Write pseudocode, either iterative or recursive, for binary\n",
    "search. Argue that the worst-case running time of binary search is ‚ $O(\\log{n})$."
   ]
  },
  {
   "cell_type": "code",
   "execution_count": 68,
   "metadata": {},
   "outputs": [],
   "source": [
    "def bin_ser(A, x, s, e):\n",
    "    n = e - s + 1\n",
    "    m = (e+s)//2\n",
    "    if A[m] == x:\n",
    "        return m\n",
    "    elif n == 1 and not(A[m] == x):\n",
    "        return -1\n",
    "    elif e > A[m]:\n",
    "        return bin_ser(A, x, m+1, e)\n",
    "    else:\n",
    "        return bin_ser(A, x, s, m)"
   ]
  },
  {
   "cell_type": "code",
   "execution_count": 69,
   "metadata": {},
   "outputs": [
    {
     "name": "stdout",
     "output_type": "stream",
     "text": [
      "[0, 1, 2, 3, 4, 5, 6, 7, 8, 15, 99]\n",
      "9\n"
     ]
    }
   ],
   "source": [
    "a = [0,1,2,3,4,5,6,7,8,99,15]\n",
    "merge_sort(a, 0, len(a)-1)\n",
    "print(a)\n",
    "print(bin_ser(a, 15, 0, len(a)-1))"
   ]
  },
  {
   "cell_type": "markdown",
   "metadata": {},
   "source": [
    "Well that works!\n",
    "## 2.3 - 6\n",
    "Observe that the while loop of lines 5–7 of the INSERTION-SORT procedure in\n",
    "Section 2.1 uses a linear search to scan (backward) through the sorted subarray\n",
    "A[1 ... j-1]. Can we use a binary search (see Exercise 2.3-5) instead to improve\n",
    "the overall worst-case running time of insertion sort to $O(n \\log{n})$?\n"
   ]
  },
  {
   "cell_type": "code",
   "execution_count": 70,
   "metadata": {},
   "outputs": [],
   "source": [
    "def bin_ser_2(A, x, s, e):\n",
    "    n = e - s + 1\n",
    "    m = (e+s)//2\n",
    "    if n == 1:\n",
    "        return s if A[0] > x else e+1\n",
    "    \n",
    "    elif n == 2:\n",
    "        if A[m] <= x and A[m+1] >= x:\n",
    "            return m+1\n",
    "        return s if A[0] > x else e+1\n",
    "\n",
    "    elif A[m] <= x and A[m+1] >= x:\n",
    "        return m+1\n",
    "    \n",
    "    elif A[m] < x and A[m+1] < x:\n",
    "        return bin_ser_2(A, x, m+1, e)\n",
    "    \n",
    "    else:\n",
    "        return bin_ser_2(A, x, s, m)"
   ]
  },
  {
   "cell_type": "code",
   "execution_count": 71,
   "metadata": {},
   "outputs": [
    {
     "data": {
      "text/plain": [
       "4"
      ]
     },
     "execution_count": 71,
     "metadata": {},
     "output_type": "execute_result"
    }
   ],
   "source": [
    "A = [1299, 3876, 4997, 5957]\n",
    "bin_ser_2(A, 6000, 0, 3)"
   ]
  },
  {
   "cell_type": "code",
   "execution_count": 72,
   "metadata": {},
   "outputs": [],
   "source": [
    "def insert_sort_bin(arr):\n",
    "    for j in range(1, len(arr)):\n",
    "        #print(\"iteration =\", j)\n",
    "        #print(arr)\n",
    "        key = arr[j]\n",
    "        #print(\"key =\", key)\n",
    "        i = bin_ser_2(arr, key, 0, j-1)\n",
    "        #print(\"index =\", i)\n",
    "        arr[i+1 : j+1] = arr[i : j]\n",
    "        arr[i] = key\n",
    "        #print(\"seq after fitting = \", arr)\n",
    "    return arr"
   ]
  },
  {
   "cell_type": "code",
   "execution_count": 73,
   "metadata": {},
   "outputs": [
    {
     "name": "stdout",
     "output_type": "stream",
     "text": [
      "[1299, 3876, 4997, 5957, 6738, 5137, 485]\n",
      "[485, 1299, 3876, 4997, 5137, 5957, 6738]\n"
     ]
    }
   ],
   "source": [
    "A = ini(7)\n",
    "print(A)\n",
    "insert_sort_bin(A)\n",
    "print(A)"
   ]
  },
  {
   "cell_type": "markdown",
   "metadata": {},
   "source": [
    "Well this isn't of the required time complexity\n",
    "## 2.3 - 7\n",
    "Describe a $O(n \\log{n})$ time algorithm that, given a set $S$ of $n$ integers and another\n",
    "integer $x$ , determines whether or not there exist two elements in $S$ whose sum is\n",
    "exactly $x$ .\n"
   ]
  },
  {
   "cell_type": "code",
   "execution_count": 74,
   "metadata": {},
   "outputs": [],
   "source": [
    "def func_7(S, n, x):\n",
    "    merge_sort(S, 0, n-1)\n",
    "    print(S)\n",
    "    i = 0\n",
    "    j = 0\n",
    "    flag = False\n",
    "    while i < n:\n",
    "        print(\"iteration\", i+1)\n",
    "        j = x - S[i]\n",
    "        print(\"i =\", S[i], \"j =\",j)\n",
    "        index = bin_ser(S, j, 0, n-1)\n",
    "        print(\"index =\", index)\n",
    "        if not (index == -1):\n",
    "            flag = True\n",
    "            break\n",
    "        i = i+1\n",
    "    if flag:\n",
    "        return S[i], j\n",
    "    else:\n",
    "        return \"Sorry\""
   ]
  },
  {
   "cell_type": "markdown",
   "metadata": {},
   "source": [
    "Since merge sort is of $O(n\\log{n})$ time complexity and binary search is in the loop is $O(n\\log{n})$, so the final time complexity is $O(n\\log{n})$."
   ]
  },
  {
   "cell_type": "code",
   "execution_count": 75,
   "metadata": {},
   "outputs": [
    {
     "name": "stdout",
     "output_type": "stream",
     "text": [
      "[0, 1, 2, 3, 4, 5, 6, 7, 8, 15, 99]\n",
      "iteration 1\n",
      "i = 0 j = 16\n",
      "index = -1\n",
      "iteration 2\n",
      "i = 1 j = 15\n",
      "index = 9\n"
     ]
    },
    {
     "data": {
      "text/plain": [
       "(1, 15)"
      ]
     },
     "execution_count": 75,
     "metadata": {},
     "output_type": "execute_result"
    }
   ],
   "source": [
    "a = [0,1,2,3,4,5,6,7,8,99,15]\n",
    "func_7(a, 11, 16)"
   ]
  },
  {
   "cell_type": "markdown",
   "metadata": {},
   "source": [
    "# Chapter Problems\n",
    "## 2-1. Insertion sort on small arrays in merge sort\n"
   ]
  },
  {
   "cell_type": "code",
   "execution_count": 76,
   "metadata": {},
   "outputs": [],
   "source": [
    "def merge_sort_enhanced(A, p, r):\n",
    "    n = r - p + 1\n",
    "    if(n < 40):\n",
    "        return insert_sort(A, p, r)\n",
    "    if(p < r):\n",
    "        q = (p + r)//2\n",
    "        merge_sort(A, p, q)\n",
    "        merge_sort(A, q+1, r)\n",
    "        merge(A, p, q, r)"
   ]
  },
  {
   "cell_type": "code",
   "execution_count": 80,
   "metadata": {},
   "outputs": [],
   "source": [
    "A = ini(99)"
   ]
  },
  {
   "cell_type": "code",
   "execution_count": 81,
   "metadata": {},
   "outputs": [],
   "source": [
    "merge_sort_enhanced(A, 0, len(A)-1)"
   ]
  },
  {
   "cell_type": "code",
   "execution_count": 86,
   "metadata": {},
   "outputs": [],
   "source": [
    "A = ini(99)"
   ]
  },
  {
   "cell_type": "code",
   "execution_count": 87,
   "metadata": {},
   "outputs": [],
   "source": [
    "\n",
    "merge_sort(A, 0, len(A) - 1)"
   ]
  },
  {
   "cell_type": "markdown",
   "metadata": {},
   "source": [
    "## 2-4  d => Inversions\n",
    "Let $A[1 .. n]$ be an array of n distinct numbers. If i < j and $A[i] > A[j]$ , then the\n",
    "pair $(i, j)$  is called an inversion of A.\n",
    "\n",
    "Give an algorithm that determines the number of inversions in any permutation\n",
    "on n elements in $O(n \\log{n})$ worst-case time. (Hint: Modify merge sort.)"
   ]
  },
  {
   "cell_type": "code",
   "execution_count": 188,
   "metadata": {},
   "outputs": [],
   "source": [
    "def invi_merge(A, p, q, r):\n",
    "    n1 = q - p + 1\n",
    "    n2 = r - q\n",
    "    L = [i for i in A[p : q+1]]\n",
    "    R = [i for i in A[q+1 : r+1]]\n",
    "    L.append(9999999)     #A sentinel value for me\n",
    "    R.append(9999999)\n",
    "    inv = 0\n",
    "    i = 0\n",
    "    j = 0    \n",
    "    for k in range(p,r+1):\n",
    "        if L[i] <= R[j]:\n",
    "            A[k] = L[i]\n",
    "            i = i + 1\n",
    "        else:\n",
    "            A[k] = R[j]\n",
    "            j = j+1\n",
    "            #print(\"i, p, q =\", i, p, q )\n",
    "            inv += n1 - i \n",
    "            #print(inv)\n",
    "    return inv "
   ]
  },
  {
   "cell_type": "code",
   "execution_count": 189,
   "metadata": {},
   "outputs": [],
   "source": [
    "def no_invi(A, p, r):\n",
    "    inv = 0\n",
    "    if p >= r:\n",
    "        return 0\n",
    "    q = (p + r)//2\n",
    "    i1 = no_invi(A, p, q)\n",
    "    i2 = no_invi(A, q+1, r)\n",
    "    x = invi_merge(A, p, q, r)\n",
    "    #print('x', x)\n",
    "    inv = x + i1 + i2\n",
    "    return inv"
   ]
  },
  {
   "cell_type": "code",
   "execution_count": 194,
   "metadata": {},
   "outputs": [
    {
     "data": {
      "text/plain": [
       "6"
      ]
     },
     "execution_count": 194,
     "metadata": {},
     "output_type": "execute_result"
    }
   ],
   "source": [
    "A = [ 4,3, 2, 1]\n",
    "no_invi(A, 0, len(A)-1)"
   ]
  },
  {
   "cell_type": "code",
   "execution_count": 193,
   "metadata": {},
   "outputs": [
    {
     "name": "stdout",
     "output_type": "stream",
     "text": [
      "[0, 1, 2, 3, 6, 8]\n"
     ]
    }
   ],
   "source": [
    "print(A)"
   ]
  },
  {
   "cell_type": "markdown",
   "metadata": {},
   "source": [
    "# Union"
   ]
  },
  {
   "cell_type": "code",
   "execution_count": 33,
   "metadata": {},
   "outputs": [],
   "source": [
    "def union_merge(A, p, q, r):\n",
    "    n1 = q - p + 1\n",
    "    n2 = r - q\n",
    "    L = [i for i in A[p : q+1]]\n",
    "    R = [i for i in A[q+1 : r+1]]\n",
    "    L.append(9999999)     #A sentinel value for me\n",
    "    R.append(9999999)\n",
    "\n",
    "    i = 0\n",
    "    j = 0\n",
    "    k = p    \n",
    "    while i < n1 and j < n2:\n",
    "        if L[i] == R[j]:\n",
    "            A[k] = L[i]\n",
    "            i += 1\n",
    "            j += 1\n",
    "        elif L[i] < R[j]:\n",
    "            A[k] = L[i]\n",
    "            i = i + 1\n",
    "        else:\n",
    "            A[k] = R[j]\n",
    "            j = j+1\n",
    "        k += 1\n",
    "\n",
    "    while i < n1:\n",
    "        A[k] = L[i]\n",
    "        i += 1\n",
    "        k += 1\n",
    "    while j < n2:\n",
    "        A[k] = R[j]\n",
    "        j += 1\n",
    "        k += 1\n",
    "    e = k\n",
    "    while k <= r:\n",
    "        A[k] = 99999999   \n",
    "        k += 1 \n",
    "    return A, e\n"
   ]
  },
  {
   "cell_type": "code",
   "execution_count": 34,
   "metadata": {},
   "outputs": [],
   "source": [
    "def union_merge_sort(A, p, r):\n",
    "    if(p < r):\n",
    "        q = (p + r)//2\n",
    "        union_merge_sort(A, p, q)\n",
    "        union_merge_sort(A, q+1, r)\n",
    "        _, k = union_merge(A, p, q, r)\n",
    "        return k"
   ]
  },
  {
   "cell_type": "code",
   "execution_count": 36,
   "metadata": {},
   "outputs": [
    {
     "data": {
      "text/plain": [
       "([1, 2, 3, 4, 5, 7, 9, 46, 99999999, 99999999, 99999999], 9)"
      ]
     },
     "execution_count": 36,
     "metadata": {},
     "output_type": "execute_result"
    }
   ],
   "source": [
    "A = [int(i) for i in input().split()]\n",
    "k = union_merge_sort(A, 0, len(A) - 1)\n",
    "A, k"
   ]
  },
  {
   "cell_type": "code",
   "execution_count": null,
   "metadata": {},
   "outputs": [],
   "source": []
  }
 ],
 "metadata": {
  "interpreter": {
   "hash": "9da5a1eb768521143534bf09b996f0d525d45d2d4b488be6c4304e80c1815fea"
  },
  "kernelspec": {
   "display_name": "Python 3.8.8 64-bit ('base': conda)",
   "name": "python3"
  },
  "language_info": {
   "codemirror_mode": {
    "name": "ipython",
    "version": 3
   },
   "file_extension": ".py",
   "mimetype": "text/x-python",
   "name": "python",
   "nbconvert_exporter": "python",
   "pygments_lexer": "ipython3",
   "version": "3.8.8"
  },
  "orig_nbformat": 4
 },
 "nbformat": 4,
 "nbformat_minor": 2
}
